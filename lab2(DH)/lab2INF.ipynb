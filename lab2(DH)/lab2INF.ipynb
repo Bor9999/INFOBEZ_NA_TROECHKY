{
  "nbformat": 4,
  "nbformat_minor": 0,
  "metadata": {
    "colab": {
      "name": "lab2INF.ipynb",
      "provenance": [],
      "collapsed_sections": []
    },
    "kernelspec": {
      "name": "python3",
      "display_name": "Python 3"
    },
    "language_info": {
      "name": "python"
    }
  },
  "cells": [
    {
      "cell_type": "code",
      "execution_count": 16,
      "metadata": {
        "id": "gbNhrzmEoXA6",
        "colab": {
          "base_uri": "https://localhost:8080/"
        },
        "outputId": "f195bfb1-1fbd-4223-b772-0b234b88ec70"
      },
      "outputs": [
        {
          "output_type": "stream",
          "name": "stdout",
          "text": [
            "Приватный ключ Алисы: 8433\n",
            "Приватный ключ Боба: 1094\n",
            "Открытый ключ Алисы: 17222\n",
            "Открытый ключ Боба: 29367\n",
            "Секретный ключ беседы: 28209\n"
          ]
        }
      ],
      "source": [
        "import random\n",
        "\n",
        "def get_random_prime(n):  #Функция для выдачи рандомного простого числа\n",
        "    numbers = [i for i in range(n+1)]\n",
        "    is_prime = [True for i in range(n+1)]\n",
        "    \n",
        "    i = 2\n",
        "    while i < len(numbers):\n",
        "        a = i**2\n",
        "        while a <= n:\n",
        "            is_prime[a] = False\n",
        "            a += numbers[i]\n",
        "        i += 1\n",
        "    \n",
        "    primes = []\n",
        "    for i in range(n+1):\n",
        "        if is_prime[i]:\n",
        "            primes.append(numbers[i])\n",
        "    return primes[random.randint(0,len(primes)-1)]\n",
        "\n",
        "#Генерация стартовых значений\n",
        "P = get_random_prime(100000)\n",
        "G = random.randint(100,10000)\n",
        "Alice_pr_key = random.randint(100,10000) \n",
        "Bob_pr_key = random.randint(100,10000)   \n",
        "\n",
        "#Расчетная часть\n",
        "print(\"Приватный ключ Алисы:\", Alice_pr_key)\n",
        "print(\"Приватный ключ Боба:\", Bob_pr_key)\n",
        "Alice_op_key = (G**Alice_pr_key % P)\n",
        "Bob_op_key = (G**Bob_pr_key % P)     \n",
        "print(\"Открытый ключ Алисы:\", Alice_op_key)\n",
        "print(\"Открытый ключ Боба:\", Bob_op_key)\n",
        "if((Bob_op_key**Alice_pr_key % P)==(Alice_op_key**Bob_pr_key % P)):\n",
        "\tKeyOFDialog = (Bob_op_key**Alice_pr_key % P)\n",
        "print('Секретный ключ беседы:', KeyOFDialog)"
      ]
    }
  ]
}